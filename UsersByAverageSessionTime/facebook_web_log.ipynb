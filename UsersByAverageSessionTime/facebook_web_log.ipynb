{
 "cells": [
  {
   "cell_type": "code",
   "execution_count": 84,
   "id": "4aeb9125-a8b5-4306-b513-7a5f5530e035",
   "metadata": {},
   "outputs": [],
   "source": [
    "# Import your libraries\n",
    "import pandas as pd\n",
    "import numpy as np"
   ]
  },
  {
   "cell_type": "code",
   "execution_count": 85,
   "id": "3e50cac8-afb2-4caf-bd2d-9861651c1926",
   "metadata": {},
   "outputs": [
    {
     "data": {
      "text/html": [
       "<div>\n",
       "<style scoped>\n",
       "    .dataframe tbody tr th:only-of-type {\n",
       "        vertical-align: middle;\n",
       "    }\n",
       "\n",
       "    .dataframe tbody tr th {\n",
       "        vertical-align: top;\n",
       "    }\n",
       "\n",
       "    .dataframe thead th {\n",
       "        text-align: right;\n",
       "    }\n",
       "</style>\n",
       "<table border=\"1\" class=\"dataframe\">\n",
       "  <thead>\n",
       "    <tr style=\"text-align: right;\">\n",
       "      <th></th>\n",
       "      <th>user_id</th>\n",
       "      <th>timestamp</th>\n",
       "      <th>action</th>\n",
       "    </tr>\n",
       "  </thead>\n",
       "  <tbody>\n",
       "    <tr>\n",
       "      <th>0</th>\n",
       "      <td>0</td>\n",
       "      <td>2019-04-25 13:30:15</td>\n",
       "      <td>page_load</td>\n",
       "    </tr>\n",
       "    <tr>\n",
       "      <th>1</th>\n",
       "      <td>0</td>\n",
       "      <td>2019-04-25 13:30:18</td>\n",
       "      <td>page_load</td>\n",
       "    </tr>\n",
       "    <tr>\n",
       "      <th>2</th>\n",
       "      <td>0</td>\n",
       "      <td>2019-04-25 13:30:40</td>\n",
       "      <td>scroll_down</td>\n",
       "    </tr>\n",
       "    <tr>\n",
       "      <th>3</th>\n",
       "      <td>0</td>\n",
       "      <td>2019-04-25 13:30:45</td>\n",
       "      <td>scroll_up</td>\n",
       "    </tr>\n",
       "    <tr>\n",
       "      <th>4</th>\n",
       "      <td>0</td>\n",
       "      <td>2019-04-25 13:31:10</td>\n",
       "      <td>scroll_down</td>\n",
       "    </tr>\n",
       "  </tbody>\n",
       "</table>\n",
       "</div>"
      ],
      "text/plain": [
       "   user_id            timestamp       action\n",
       "0        0  2019-04-25 13:30:15    page_load\n",
       "1        0  2019-04-25 13:30:18    page_load\n",
       "2        0  2019-04-25 13:30:40  scroll_down\n",
       "3        0  2019-04-25 13:30:45    scroll_up\n",
       "4        0  2019-04-25 13:31:10  scroll_down"
      ]
     },
     "execution_count": 85,
     "metadata": {},
     "output_type": "execute_result"
    }
   ],
   "source": [
    "#facebook_web_log = pd.read_clipboard()\n",
    "#facebook_web_log.to_csv('facebook_web_log.csv',index=False)\n",
    "facebook_web_log = pd.read_csv('facebook_web_log.csv')\n",
    "facebook_web_log.head()"
   ]
  },
  {
   "cell_type": "code",
   "execution_count": 86,
   "id": "46ef8fdc-ebca-48ce-938c-95f6529bf77c",
   "metadata": {},
   "outputs": [],
   "source": [
    "df = facebook_web_log.copy()"
   ]
  },
  {
   "cell_type": "code",
   "execution_count": 87,
   "id": "d279f15f-9fa2-4311-9ec3-9a29cd4da9a1",
   "metadata": {},
   "outputs": [],
   "source": [
    "df['timestamp'] = pd.to_datetime(df['timestamp'], errors='coerce')"
   ]
  },
  {
   "cell_type": "markdown",
   "id": "6203b164-dbe9-4d20-af6f-ed48c59fb0ec",
   "metadata": {},
   "source": [
    "### Create dataframe grouping user ID and day for page load ( consider only the latest page load)"
   ]
  },
  {
   "cell_type": "code",
   "execution_count": 88,
   "id": "802cc332-c1f7-423b-bcad-0c5379a6c916",
   "metadata": {},
   "outputs": [],
   "source": [
    "# make df of only page loads\n",
    "df_load = df[df['action'] == 'page_load'].copy()"
   ]
  },
  {
   "cell_type": "code",
   "execution_count": 89,
   "id": "bbe41841-6faf-4a45-aee6-fdd64ccd274d",
   "metadata": {},
   "outputs": [
    {
     "data": {
      "text/html": [
       "<div>\n",
       "<style scoped>\n",
       "    .dataframe tbody tr th:only-of-type {\n",
       "        vertical-align: middle;\n",
       "    }\n",
       "\n",
       "    .dataframe tbody tr th {\n",
       "        vertical-align: top;\n",
       "    }\n",
       "\n",
       "    .dataframe thead th {\n",
       "        text-align: right;\n",
       "    }\n",
       "</style>\n",
       "<table border=\"1\" class=\"dataframe\">\n",
       "  <thead>\n",
       "    <tr style=\"text-align: right;\">\n",
       "      <th></th>\n",
       "      <th>user_id</th>\n",
       "      <th>timestamp</th>\n",
       "      <th>action</th>\n",
       "    </tr>\n",
       "  </thead>\n",
       "  <tbody>\n",
       "    <tr>\n",
       "      <th>0</th>\n",
       "      <td>0</td>\n",
       "      <td>2019-04-25 13:30:15</td>\n",
       "      <td>page_load</td>\n",
       "    </tr>\n",
       "    <tr>\n",
       "      <th>1</th>\n",
       "      <td>0</td>\n",
       "      <td>2019-04-25 13:30:18</td>\n",
       "      <td>page_load</td>\n",
       "    </tr>\n",
       "    <tr>\n",
       "      <th>7</th>\n",
       "      <td>1</td>\n",
       "      <td>2019-04-25 13:40:00</td>\n",
       "      <td>page_load</td>\n",
       "    </tr>\n",
       "    <tr>\n",
       "      <th>14</th>\n",
       "      <td>2</td>\n",
       "      <td>2019-04-25 13:41:21</td>\n",
       "      <td>page_load</td>\n",
       "    </tr>\n",
       "    <tr>\n",
       "      <th>18</th>\n",
       "      <td>1</td>\n",
       "      <td>2019-04-26 11:15:00</td>\n",
       "      <td>page_load</td>\n",
       "    </tr>\n",
       "    <tr>\n",
       "      <th>23</th>\n",
       "      <td>0</td>\n",
       "      <td>2019-04-28 14:30:15</td>\n",
       "      <td>page_load</td>\n",
       "    </tr>\n",
       "    <tr>\n",
       "      <th>24</th>\n",
       "      <td>0</td>\n",
       "      <td>2019-04-28 14:30:10</td>\n",
       "      <td>page_load</td>\n",
       "    </tr>\n",
       "  </tbody>\n",
       "</table>\n",
       "</div>"
      ],
      "text/plain": [
       "    user_id           timestamp     action\n",
       "0         0 2019-04-25 13:30:15  page_load\n",
       "1         0 2019-04-25 13:30:18  page_load\n",
       "7         1 2019-04-25 13:40:00  page_load\n",
       "14        2 2019-04-25 13:41:21  page_load\n",
       "18        1 2019-04-26 11:15:00  page_load\n",
       "23        0 2019-04-28 14:30:15  page_load\n",
       "24        0 2019-04-28 14:30:10  page_load"
      ]
     },
     "execution_count": 89,
     "metadata": {},
     "output_type": "execute_result"
    }
   ],
   "source": [
    "df_load"
   ]
  },
  {
   "cell_type": "code",
   "execution_count": 90,
   "id": "3c57911d-7ac6-44d3-a6b4-99905077d1b7",
   "metadata": {},
   "outputs": [],
   "source": [
    "# create 'day' column \n",
    "df_load['day'] = df_load['timestamp'].dt.date"
   ]
  },
  {
   "cell_type": "code",
   "execution_count": 91,
   "id": "eb56f444-c47c-414e-98fa-888d458ac6f2",
   "metadata": {},
   "outputs": [
    {
     "data": {
      "text/html": [
       "<div>\n",
       "<style scoped>\n",
       "    .dataframe tbody tr th:only-of-type {\n",
       "        vertical-align: middle;\n",
       "    }\n",
       "\n",
       "    .dataframe tbody tr th {\n",
       "        vertical-align: top;\n",
       "    }\n",
       "\n",
       "    .dataframe thead th {\n",
       "        text-align: right;\n",
       "    }\n",
       "</style>\n",
       "<table border=\"1\" class=\"dataframe\">\n",
       "  <thead>\n",
       "    <tr style=\"text-align: right;\">\n",
       "      <th></th>\n",
       "      <th>user_id</th>\n",
       "      <th>timestamp</th>\n",
       "      <th>action</th>\n",
       "      <th>day</th>\n",
       "    </tr>\n",
       "  </thead>\n",
       "  <tbody>\n",
       "    <tr>\n",
       "      <th>0</th>\n",
       "      <td>0</td>\n",
       "      <td>2019-04-25 13:30:15</td>\n",
       "      <td>page_load</td>\n",
       "      <td>2019-04-25</td>\n",
       "    </tr>\n",
       "    <tr>\n",
       "      <th>1</th>\n",
       "      <td>0</td>\n",
       "      <td>2019-04-25 13:30:18</td>\n",
       "      <td>page_load</td>\n",
       "      <td>2019-04-25</td>\n",
       "    </tr>\n",
       "    <tr>\n",
       "      <th>7</th>\n",
       "      <td>1</td>\n",
       "      <td>2019-04-25 13:40:00</td>\n",
       "      <td>page_load</td>\n",
       "      <td>2019-04-25</td>\n",
       "    </tr>\n",
       "    <tr>\n",
       "      <th>14</th>\n",
       "      <td>2</td>\n",
       "      <td>2019-04-25 13:41:21</td>\n",
       "      <td>page_load</td>\n",
       "      <td>2019-04-25</td>\n",
       "    </tr>\n",
       "    <tr>\n",
       "      <th>18</th>\n",
       "      <td>1</td>\n",
       "      <td>2019-04-26 11:15:00</td>\n",
       "      <td>page_load</td>\n",
       "      <td>2019-04-26</td>\n",
       "    </tr>\n",
       "    <tr>\n",
       "      <th>23</th>\n",
       "      <td>0</td>\n",
       "      <td>2019-04-28 14:30:15</td>\n",
       "      <td>page_load</td>\n",
       "      <td>2019-04-28</td>\n",
       "    </tr>\n",
       "    <tr>\n",
       "      <th>24</th>\n",
       "      <td>0</td>\n",
       "      <td>2019-04-28 14:30:10</td>\n",
       "      <td>page_load</td>\n",
       "      <td>2019-04-28</td>\n",
       "    </tr>\n",
       "  </tbody>\n",
       "</table>\n",
       "</div>"
      ],
      "text/plain": [
       "    user_id           timestamp     action         day\n",
       "0         0 2019-04-25 13:30:15  page_load  2019-04-25\n",
       "1         0 2019-04-25 13:30:18  page_load  2019-04-25\n",
       "7         1 2019-04-25 13:40:00  page_load  2019-04-25\n",
       "14        2 2019-04-25 13:41:21  page_load  2019-04-25\n",
       "18        1 2019-04-26 11:15:00  page_load  2019-04-26\n",
       "23        0 2019-04-28 14:30:15  page_load  2019-04-28\n",
       "24        0 2019-04-28 14:30:10  page_load  2019-04-28"
      ]
     },
     "execution_count": 91,
     "metadata": {},
     "output_type": "execute_result"
    }
   ],
   "source": [
    "df_load"
   ]
  },
  {
   "cell_type": "code",
   "execution_count": 92,
   "id": "cd8ddbe6-b5f7-4a0d-9015-1e378d284341",
   "metadata": {},
   "outputs": [],
   "source": [
    "# Group df by user ID and date with the latest page_laod\n",
    "df_load = df_load.groupby(['user_id','day'], as_index = False).max()"
   ]
  },
  {
   "cell_type": "code",
   "execution_count": 93,
   "id": "45ee7977-ce5f-4b32-bd0e-651c0358a0ee",
   "metadata": {},
   "outputs": [
    {
     "data": {
      "text/html": [
       "<div>\n",
       "<style scoped>\n",
       "    .dataframe tbody tr th:only-of-type {\n",
       "        vertical-align: middle;\n",
       "    }\n",
       "\n",
       "    .dataframe tbody tr th {\n",
       "        vertical-align: top;\n",
       "    }\n",
       "\n",
       "    .dataframe thead th {\n",
       "        text-align: right;\n",
       "    }\n",
       "</style>\n",
       "<table border=\"1\" class=\"dataframe\">\n",
       "  <thead>\n",
       "    <tr style=\"text-align: right;\">\n",
       "      <th></th>\n",
       "      <th>user_id</th>\n",
       "      <th>day</th>\n",
       "      <th>timestamp</th>\n",
       "      <th>action</th>\n",
       "    </tr>\n",
       "  </thead>\n",
       "  <tbody>\n",
       "    <tr>\n",
       "      <th>0</th>\n",
       "      <td>0</td>\n",
       "      <td>2019-04-25</td>\n",
       "      <td>2019-04-25 13:30:18</td>\n",
       "      <td>page_load</td>\n",
       "    </tr>\n",
       "    <tr>\n",
       "      <th>1</th>\n",
       "      <td>0</td>\n",
       "      <td>2019-04-28</td>\n",
       "      <td>2019-04-28 14:30:15</td>\n",
       "      <td>page_load</td>\n",
       "    </tr>\n",
       "    <tr>\n",
       "      <th>2</th>\n",
       "      <td>1</td>\n",
       "      <td>2019-04-25</td>\n",
       "      <td>2019-04-25 13:40:00</td>\n",
       "      <td>page_load</td>\n",
       "    </tr>\n",
       "    <tr>\n",
       "      <th>3</th>\n",
       "      <td>1</td>\n",
       "      <td>2019-04-26</td>\n",
       "      <td>2019-04-26 11:15:00</td>\n",
       "      <td>page_load</td>\n",
       "    </tr>\n",
       "    <tr>\n",
       "      <th>4</th>\n",
       "      <td>2</td>\n",
       "      <td>2019-04-25</td>\n",
       "      <td>2019-04-25 13:41:21</td>\n",
       "      <td>page_load</td>\n",
       "    </tr>\n",
       "  </tbody>\n",
       "</table>\n",
       "</div>"
      ],
      "text/plain": [
       "   user_id         day           timestamp     action\n",
       "0        0  2019-04-25 2019-04-25 13:30:18  page_load\n",
       "1        0  2019-04-28 2019-04-28 14:30:15  page_load\n",
       "2        1  2019-04-25 2019-04-25 13:40:00  page_load\n",
       "3        1  2019-04-26 2019-04-26 11:15:00  page_load\n",
       "4        2  2019-04-25 2019-04-25 13:41:21  page_load"
      ]
     },
     "execution_count": 93,
     "metadata": {},
     "output_type": "execute_result"
    }
   ],
   "source": [
    "df_load"
   ]
  },
  {
   "cell_type": "code",
   "execution_count": 94,
   "id": "0eba8fcf-82b5-47f1-a134-f9437b4d1734",
   "metadata": {},
   "outputs": [
    {
     "data": {
      "text/html": [
       "<div>\n",
       "<style scoped>\n",
       "    .dataframe tbody tr th:only-of-type {\n",
       "        vertical-align: middle;\n",
       "    }\n",
       "\n",
       "    .dataframe tbody tr th {\n",
       "        vertical-align: top;\n",
       "    }\n",
       "\n",
       "    .dataframe thead th {\n",
       "        text-align: right;\n",
       "    }\n",
       "</style>\n",
       "<table border=\"1\" class=\"dataframe\">\n",
       "  <thead>\n",
       "    <tr style=\"text-align: right;\">\n",
       "      <th></th>\n",
       "      <th>user_id</th>\n",
       "      <th>day</th>\n",
       "      <th>load_time</th>\n",
       "      <th>action</th>\n",
       "    </tr>\n",
       "  </thead>\n",
       "  <tbody>\n",
       "    <tr>\n",
       "      <th>0</th>\n",
       "      <td>0</td>\n",
       "      <td>2019-04-25</td>\n",
       "      <td>2019-04-25 13:30:18</td>\n",
       "      <td>page_load</td>\n",
       "    </tr>\n",
       "    <tr>\n",
       "      <th>1</th>\n",
       "      <td>0</td>\n",
       "      <td>2019-04-28</td>\n",
       "      <td>2019-04-28 14:30:15</td>\n",
       "      <td>page_load</td>\n",
       "    </tr>\n",
       "    <tr>\n",
       "      <th>2</th>\n",
       "      <td>1</td>\n",
       "      <td>2019-04-25</td>\n",
       "      <td>2019-04-25 13:40:00</td>\n",
       "      <td>page_load</td>\n",
       "    </tr>\n",
       "    <tr>\n",
       "      <th>3</th>\n",
       "      <td>1</td>\n",
       "      <td>2019-04-26</td>\n",
       "      <td>2019-04-26 11:15:00</td>\n",
       "      <td>page_load</td>\n",
       "    </tr>\n",
       "    <tr>\n",
       "      <th>4</th>\n",
       "      <td>2</td>\n",
       "      <td>2019-04-25</td>\n",
       "      <td>2019-04-25 13:41:21</td>\n",
       "      <td>page_load</td>\n",
       "    </tr>\n",
       "  </tbody>\n",
       "</table>\n",
       "</div>"
      ],
      "text/plain": [
       "   user_id         day           load_time     action\n",
       "0        0  2019-04-25 2019-04-25 13:30:18  page_load\n",
       "1        0  2019-04-28 2019-04-28 14:30:15  page_load\n",
       "2        1  2019-04-25 2019-04-25 13:40:00  page_load\n",
       "3        1  2019-04-26 2019-04-26 11:15:00  page_load\n",
       "4        2  2019-04-25 2019-04-25 13:41:21  page_load"
      ]
     },
     "execution_count": 94,
     "metadata": {},
     "output_type": "execute_result"
    }
   ],
   "source": [
    "# rename timestamp\n",
    "df_load.rename(columns = {'timestamp':'load_time'}, inplace = True)\n",
    "df_load"
   ]
  },
  {
   "cell_type": "markdown",
   "id": "0eebbffd-f329-41e0-9411-fad7791dc5ca",
   "metadata": {},
   "source": [
    "### Create dataframe grouping user ID and day for page exit (consider only the earliest page_exit)"
   ]
  },
  {
   "cell_type": "code",
   "execution_count": 95,
   "id": "415547fe-4d60-470f-8819-7fec025f6b4e",
   "metadata": {},
   "outputs": [],
   "source": [
    "# make df of only page loads\n",
    "df_exit = df[df['action'] == 'page_exit'].copy()"
   ]
  },
  {
   "cell_type": "code",
   "execution_count": 96,
   "id": "aa0345aa-7eb5-421e-99b8-d189f92ad86a",
   "metadata": {},
   "outputs": [
    {
     "data": {
      "text/html": [
       "<div>\n",
       "<style scoped>\n",
       "    .dataframe tbody tr th:only-of-type {\n",
       "        vertical-align: middle;\n",
       "    }\n",
       "\n",
       "    .dataframe tbody tr th {\n",
       "        vertical-align: top;\n",
       "    }\n",
       "\n",
       "    .dataframe thead th {\n",
       "        text-align: right;\n",
       "    }\n",
       "</style>\n",
       "<table border=\"1\" class=\"dataframe\">\n",
       "  <thead>\n",
       "    <tr style=\"text-align: right;\">\n",
       "      <th></th>\n",
       "      <th>user_id</th>\n",
       "      <th>timestamp</th>\n",
       "      <th>action</th>\n",
       "    </tr>\n",
       "  </thead>\n",
       "  <tbody>\n",
       "    <tr>\n",
       "      <th>6</th>\n",
       "      <td>0</td>\n",
       "      <td>2019-04-25 13:31:40</td>\n",
       "      <td>page_exit</td>\n",
       "    </tr>\n",
       "    <tr>\n",
       "      <th>13</th>\n",
       "      <td>1</td>\n",
       "      <td>2019-04-25 13:40:35</td>\n",
       "      <td>page_exit</td>\n",
       "    </tr>\n",
       "    <tr>\n",
       "      <th>22</th>\n",
       "      <td>1</td>\n",
       "      <td>2019-04-26 11:15:35</td>\n",
       "      <td>page_exit</td>\n",
       "    </tr>\n",
       "    <tr>\n",
       "      <th>26</th>\n",
       "      <td>0</td>\n",
       "      <td>2019-04-28 15:31:40</td>\n",
       "      <td>page_exit</td>\n",
       "    </tr>\n",
       "  </tbody>\n",
       "</table>\n",
       "</div>"
      ],
      "text/plain": [
       "    user_id           timestamp     action\n",
       "6         0 2019-04-25 13:31:40  page_exit\n",
       "13        1 2019-04-25 13:40:35  page_exit\n",
       "22        1 2019-04-26 11:15:35  page_exit\n",
       "26        0 2019-04-28 15:31:40  page_exit"
      ]
     },
     "execution_count": 96,
     "metadata": {},
     "output_type": "execute_result"
    }
   ],
   "source": [
    "df_exit"
   ]
  },
  {
   "cell_type": "code",
   "execution_count": 97,
   "id": "d3963cd5-720c-45f0-8981-f79435f1677e",
   "metadata": {},
   "outputs": [],
   "source": [
    "# create 'day' column \n",
    "df_exit['day'] = df_exit['timestamp'].dt.date"
   ]
  },
  {
   "cell_type": "code",
   "execution_count": 98,
   "id": "b29c4aa5-9304-4914-b3b3-05cef3e5c998",
   "metadata": {},
   "outputs": [
    {
     "data": {
      "text/html": [
       "<div>\n",
       "<style scoped>\n",
       "    .dataframe tbody tr th:only-of-type {\n",
       "        vertical-align: middle;\n",
       "    }\n",
       "\n",
       "    .dataframe tbody tr th {\n",
       "        vertical-align: top;\n",
       "    }\n",
       "\n",
       "    .dataframe thead th {\n",
       "        text-align: right;\n",
       "    }\n",
       "</style>\n",
       "<table border=\"1\" class=\"dataframe\">\n",
       "  <thead>\n",
       "    <tr style=\"text-align: right;\">\n",
       "      <th></th>\n",
       "      <th>user_id</th>\n",
       "      <th>timestamp</th>\n",
       "      <th>action</th>\n",
       "      <th>day</th>\n",
       "    </tr>\n",
       "  </thead>\n",
       "  <tbody>\n",
       "    <tr>\n",
       "      <th>6</th>\n",
       "      <td>0</td>\n",
       "      <td>2019-04-25 13:31:40</td>\n",
       "      <td>page_exit</td>\n",
       "      <td>2019-04-25</td>\n",
       "    </tr>\n",
       "    <tr>\n",
       "      <th>13</th>\n",
       "      <td>1</td>\n",
       "      <td>2019-04-25 13:40:35</td>\n",
       "      <td>page_exit</td>\n",
       "      <td>2019-04-25</td>\n",
       "    </tr>\n",
       "    <tr>\n",
       "      <th>22</th>\n",
       "      <td>1</td>\n",
       "      <td>2019-04-26 11:15:35</td>\n",
       "      <td>page_exit</td>\n",
       "      <td>2019-04-26</td>\n",
       "    </tr>\n",
       "    <tr>\n",
       "      <th>26</th>\n",
       "      <td>0</td>\n",
       "      <td>2019-04-28 15:31:40</td>\n",
       "      <td>page_exit</td>\n",
       "      <td>2019-04-28</td>\n",
       "    </tr>\n",
       "  </tbody>\n",
       "</table>\n",
       "</div>"
      ],
      "text/plain": [
       "    user_id           timestamp     action         day\n",
       "6         0 2019-04-25 13:31:40  page_exit  2019-04-25\n",
       "13        1 2019-04-25 13:40:35  page_exit  2019-04-25\n",
       "22        1 2019-04-26 11:15:35  page_exit  2019-04-26\n",
       "26        0 2019-04-28 15:31:40  page_exit  2019-04-28"
      ]
     },
     "execution_count": 98,
     "metadata": {},
     "output_type": "execute_result"
    }
   ],
   "source": [
    "df_exit"
   ]
  },
  {
   "cell_type": "code",
   "execution_count": 99,
   "id": "f7ca3753-9e38-4c5b-ac61-f7cb05758a33",
   "metadata": {},
   "outputs": [],
   "source": [
    "# Group df by user ID and date considering only the earliest page exit\n",
    "df_exit = df_exit.groupby(['user_id','day'], as_index = False).min()"
   ]
  },
  {
   "cell_type": "code",
   "execution_count": 100,
   "id": "8ac8d22a-b1c7-44e3-bce4-d6ad60b0552c",
   "metadata": {},
   "outputs": [
    {
     "data": {
      "text/html": [
       "<div>\n",
       "<style scoped>\n",
       "    .dataframe tbody tr th:only-of-type {\n",
       "        vertical-align: middle;\n",
       "    }\n",
       "\n",
       "    .dataframe tbody tr th {\n",
       "        vertical-align: top;\n",
       "    }\n",
       "\n",
       "    .dataframe thead th {\n",
       "        text-align: right;\n",
       "    }\n",
       "</style>\n",
       "<table border=\"1\" class=\"dataframe\">\n",
       "  <thead>\n",
       "    <tr style=\"text-align: right;\">\n",
       "      <th></th>\n",
       "      <th>user_id</th>\n",
       "      <th>day</th>\n",
       "      <th>timestamp</th>\n",
       "      <th>action</th>\n",
       "    </tr>\n",
       "  </thead>\n",
       "  <tbody>\n",
       "    <tr>\n",
       "      <th>0</th>\n",
       "      <td>0</td>\n",
       "      <td>2019-04-25</td>\n",
       "      <td>2019-04-25 13:31:40</td>\n",
       "      <td>page_exit</td>\n",
       "    </tr>\n",
       "    <tr>\n",
       "      <th>1</th>\n",
       "      <td>0</td>\n",
       "      <td>2019-04-28</td>\n",
       "      <td>2019-04-28 15:31:40</td>\n",
       "      <td>page_exit</td>\n",
       "    </tr>\n",
       "    <tr>\n",
       "      <th>2</th>\n",
       "      <td>1</td>\n",
       "      <td>2019-04-25</td>\n",
       "      <td>2019-04-25 13:40:35</td>\n",
       "      <td>page_exit</td>\n",
       "    </tr>\n",
       "    <tr>\n",
       "      <th>3</th>\n",
       "      <td>1</td>\n",
       "      <td>2019-04-26</td>\n",
       "      <td>2019-04-26 11:15:35</td>\n",
       "      <td>page_exit</td>\n",
       "    </tr>\n",
       "  </tbody>\n",
       "</table>\n",
       "</div>"
      ],
      "text/plain": [
       "   user_id         day           timestamp     action\n",
       "0        0  2019-04-25 2019-04-25 13:31:40  page_exit\n",
       "1        0  2019-04-28 2019-04-28 15:31:40  page_exit\n",
       "2        1  2019-04-25 2019-04-25 13:40:35  page_exit\n",
       "3        1  2019-04-26 2019-04-26 11:15:35  page_exit"
      ]
     },
     "execution_count": 100,
     "metadata": {},
     "output_type": "execute_result"
    }
   ],
   "source": [
    "df_exit"
   ]
  },
  {
   "cell_type": "code",
   "execution_count": 101,
   "id": "253a8f43-140a-4cb5-9518-5f01e98f4f2a",
   "metadata": {},
   "outputs": [],
   "source": [
    "# rename timestamp\n",
    "df_exit.rename(columns = {'timestamp':'exit_time'}, inplace = True)"
   ]
  },
  {
   "cell_type": "code",
   "execution_count": 102,
   "id": "cfb84b18-7597-42cf-b6f3-8bfa9efbb502",
   "metadata": {},
   "outputs": [
    {
     "data": {
      "text/html": [
       "<div>\n",
       "<style scoped>\n",
       "    .dataframe tbody tr th:only-of-type {\n",
       "        vertical-align: middle;\n",
       "    }\n",
       "\n",
       "    .dataframe tbody tr th {\n",
       "        vertical-align: top;\n",
       "    }\n",
       "\n",
       "    .dataframe thead th {\n",
       "        text-align: right;\n",
       "    }\n",
       "</style>\n",
       "<table border=\"1\" class=\"dataframe\">\n",
       "  <thead>\n",
       "    <tr style=\"text-align: right;\">\n",
       "      <th></th>\n",
       "      <th>user_id</th>\n",
       "      <th>day</th>\n",
       "      <th>exit_time</th>\n",
       "      <th>action</th>\n",
       "    </tr>\n",
       "  </thead>\n",
       "  <tbody>\n",
       "    <tr>\n",
       "      <th>0</th>\n",
       "      <td>0</td>\n",
       "      <td>2019-04-25</td>\n",
       "      <td>2019-04-25 13:31:40</td>\n",
       "      <td>page_exit</td>\n",
       "    </tr>\n",
       "    <tr>\n",
       "      <th>1</th>\n",
       "      <td>0</td>\n",
       "      <td>2019-04-28</td>\n",
       "      <td>2019-04-28 15:31:40</td>\n",
       "      <td>page_exit</td>\n",
       "    </tr>\n",
       "    <tr>\n",
       "      <th>2</th>\n",
       "      <td>1</td>\n",
       "      <td>2019-04-25</td>\n",
       "      <td>2019-04-25 13:40:35</td>\n",
       "      <td>page_exit</td>\n",
       "    </tr>\n",
       "    <tr>\n",
       "      <th>3</th>\n",
       "      <td>1</td>\n",
       "      <td>2019-04-26</td>\n",
       "      <td>2019-04-26 11:15:35</td>\n",
       "      <td>page_exit</td>\n",
       "    </tr>\n",
       "  </tbody>\n",
       "</table>\n",
       "</div>"
      ],
      "text/plain": [
       "   user_id         day           exit_time     action\n",
       "0        0  2019-04-25 2019-04-25 13:31:40  page_exit\n",
       "1        0  2019-04-28 2019-04-28 15:31:40  page_exit\n",
       "2        1  2019-04-25 2019-04-25 13:40:35  page_exit\n",
       "3        1  2019-04-26 2019-04-26 11:15:35  page_exit"
      ]
     },
     "execution_count": 102,
     "metadata": {},
     "output_type": "execute_result"
    }
   ],
   "source": [
    "df_exit"
   ]
  },
  {
   "cell_type": "markdown",
   "id": "bada0e4b-f204-425f-a74a-f320139d3ffc",
   "metadata": {},
   "source": [
    "### Create merged df of page loads and page exits on user_id and day"
   ]
  },
  {
   "cell_type": "code",
   "execution_count": 103,
   "id": "b56bdc76-c8fb-4dd0-b143-27b89af98805",
   "metadata": {},
   "outputs": [],
   "source": [
    "# Create merged df of page loads and page exits on user_id and day\n",
    "merged = pd.merge(df_load,df_exit,how = 'inner', on=['user_id','day'])"
   ]
  },
  {
   "cell_type": "code",
   "execution_count": 104,
   "id": "b4f1fa7f-e77c-4a4b-ad06-d66585e58daf",
   "metadata": {},
   "outputs": [
    {
     "data": {
      "text/html": [
       "<div>\n",
       "<style scoped>\n",
       "    .dataframe tbody tr th:only-of-type {\n",
       "        vertical-align: middle;\n",
       "    }\n",
       "\n",
       "    .dataframe tbody tr th {\n",
       "        vertical-align: top;\n",
       "    }\n",
       "\n",
       "    .dataframe thead th {\n",
       "        text-align: right;\n",
       "    }\n",
       "</style>\n",
       "<table border=\"1\" class=\"dataframe\">\n",
       "  <thead>\n",
       "    <tr style=\"text-align: right;\">\n",
       "      <th></th>\n",
       "      <th>user_id</th>\n",
       "      <th>day</th>\n",
       "      <th>load_time</th>\n",
       "      <th>action_x</th>\n",
       "      <th>exit_time</th>\n",
       "      <th>action_y</th>\n",
       "    </tr>\n",
       "  </thead>\n",
       "  <tbody>\n",
       "    <tr>\n",
       "      <th>0</th>\n",
       "      <td>0</td>\n",
       "      <td>2019-04-25</td>\n",
       "      <td>2019-04-25 13:30:18</td>\n",
       "      <td>page_load</td>\n",
       "      <td>2019-04-25 13:31:40</td>\n",
       "      <td>page_exit</td>\n",
       "    </tr>\n",
       "    <tr>\n",
       "      <th>1</th>\n",
       "      <td>0</td>\n",
       "      <td>2019-04-28</td>\n",
       "      <td>2019-04-28 14:30:15</td>\n",
       "      <td>page_load</td>\n",
       "      <td>2019-04-28 15:31:40</td>\n",
       "      <td>page_exit</td>\n",
       "    </tr>\n",
       "    <tr>\n",
       "      <th>2</th>\n",
       "      <td>1</td>\n",
       "      <td>2019-04-25</td>\n",
       "      <td>2019-04-25 13:40:00</td>\n",
       "      <td>page_load</td>\n",
       "      <td>2019-04-25 13:40:35</td>\n",
       "      <td>page_exit</td>\n",
       "    </tr>\n",
       "    <tr>\n",
       "      <th>3</th>\n",
       "      <td>1</td>\n",
       "      <td>2019-04-26</td>\n",
       "      <td>2019-04-26 11:15:00</td>\n",
       "      <td>page_load</td>\n",
       "      <td>2019-04-26 11:15:35</td>\n",
       "      <td>page_exit</td>\n",
       "    </tr>\n",
       "  </tbody>\n",
       "</table>\n",
       "</div>"
      ],
      "text/plain": [
       "   user_id         day           load_time   action_x           exit_time  \\\n",
       "0        0  2019-04-25 2019-04-25 13:30:18  page_load 2019-04-25 13:31:40   \n",
       "1        0  2019-04-28 2019-04-28 14:30:15  page_load 2019-04-28 15:31:40   \n",
       "2        1  2019-04-25 2019-04-25 13:40:00  page_load 2019-04-25 13:40:35   \n",
       "3        1  2019-04-26 2019-04-26 11:15:00  page_load 2019-04-26 11:15:35   \n",
       "\n",
       "    action_y  \n",
       "0  page_exit  \n",
       "1  page_exit  \n",
       "2  page_exit  \n",
       "3  page_exit  "
      ]
     },
     "execution_count": 104,
     "metadata": {},
     "output_type": "execute_result"
    }
   ],
   "source": [
    "merged"
   ]
  },
  {
   "cell_type": "code",
   "execution_count": 105,
   "id": "374f16a1-318a-4550-bc94-1b924d691b41",
   "metadata": {},
   "outputs": [],
   "source": [
    "# Create a column to calculate difference between exit time and load time \n",
    "merged['diff'] = merged['exit_time'] - merged['load_time']"
   ]
  },
  {
   "cell_type": "code",
   "execution_count": 106,
   "id": "f75bc0f1-7df7-49d4-b718-33766c0da78c",
   "metadata": {},
   "outputs": [
    {
     "name": "stderr",
     "output_type": "stream",
     "text": [
      "C:\\Users\\msold\\anaconda3\\lib\\site-packages\\numpy\\core\\fromnumeric.py:3417: FutureWarning: DataFrame.mean and DataFrame.median with numeric_only=None will include datetime64 and datetime64tz columns in a future version.\n",
      "  return mean(axis=axis, dtype=dtype, out=out, **kwargs)\n"
     ]
    }
   ],
   "source": [
    "# Calculate each user's average session time\n",
    "final = merged.groupby('user_id',as_index = False).apply(np.mean)"
   ]
  },
  {
   "cell_type": "code",
   "execution_count": 107,
   "id": "943025df-0ad3-48f0-a318-1d29832e89dd",
   "metadata": {},
   "outputs": [],
   "source": [
    "final = final.apply(pd.to_numeric, errors='coerce')"
   ]
  },
  {
   "cell_type": "code",
   "execution_count": 109,
   "id": "5a09d167-2893-4ef7-aa60-512878576186",
   "metadata": {},
   "outputs": [],
   "source": [
    "final['diff'] = final['diff'] / 1000000000\n"
   ]
  },
  {
   "cell_type": "code",
   "execution_count": 110,
   "id": "d787cb71-ea77-4c68-a34d-0ff4f84ee298",
   "metadata": {},
   "outputs": [
    {
     "data": {
      "text/html": [
       "<div>\n",
       "<style scoped>\n",
       "    .dataframe tbody tr th:only-of-type {\n",
       "        vertical-align: middle;\n",
       "    }\n",
       "\n",
       "    .dataframe tbody tr th {\n",
       "        vertical-align: top;\n",
       "    }\n",
       "\n",
       "    .dataframe thead th {\n",
       "        text-align: right;\n",
       "    }\n",
       "</style>\n",
       "<table border=\"1\" class=\"dataframe\">\n",
       "  <thead>\n",
       "    <tr style=\"text-align: right;\">\n",
       "      <th></th>\n",
       "      <th>user_id</th>\n",
       "      <th>diff</th>\n",
       "    </tr>\n",
       "  </thead>\n",
       "  <tbody>\n",
       "    <tr>\n",
       "      <th>0</th>\n",
       "      <td>0.0</td>\n",
       "      <td>1883.5</td>\n",
       "    </tr>\n",
       "    <tr>\n",
       "      <th>1</th>\n",
       "      <td>1.0</td>\n",
       "      <td>35.0</td>\n",
       "    </tr>\n",
       "  </tbody>\n",
       "</table>\n",
       "</div>"
      ],
      "text/plain": [
       "   user_id    diff\n",
       "0      0.0  1883.5\n",
       "1      1.0    35.0"
      ]
     },
     "execution_count": 110,
     "metadata": {},
     "output_type": "execute_result"
    }
   ],
   "source": [
    "final"
   ]
  },
  {
   "cell_type": "code",
   "execution_count": null,
   "id": "4ae06a22-da97-41bf-bfd6-9b3e8ae7839b",
   "metadata": {},
   "outputs": [],
   "source": []
  }
 ],
 "metadata": {
  "kernelspec": {
   "display_name": "Python 3",
   "language": "python",
   "name": "python3"
  },
  "language_info": {
   "codemirror_mode": {
    "name": "ipython",
    "version": 3
   },
   "file_extension": ".py",
   "mimetype": "text/x-python",
   "name": "python",
   "nbconvert_exporter": "python",
   "pygments_lexer": "ipython3",
   "version": "3.8.8"
  }
 },
 "nbformat": 4,
 "nbformat_minor": 5
}
