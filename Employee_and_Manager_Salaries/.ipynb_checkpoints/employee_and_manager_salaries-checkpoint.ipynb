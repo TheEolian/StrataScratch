{
 "cells": [
  {
   "cell_type": "markdown",
   "id": "97b7119e-fd13-48ea-8988-9c54093c3be0",
   "metadata": {},
   "source": [
    "# Employee and Manager Salaries"
   ]
  },
  {
   "cell_type": "markdown",
   "id": "fdb01ad2-1035-47ec-8e86-9fe61c607f9e",
   "metadata": {},
   "source": [
    "Find employees who are earning more than their managers. Output the employee's first name along with the corresponding salary."
   ]
  },
  {
   "cell_type": "code",
   "execution_count": 16,
   "id": "fe08db0a-2b29-4f55-97a5-0a0957c4aebb",
   "metadata": {},
   "outputs": [],
   "source": [
    "# Import your libraries\n",
    "import pandas as pd"
   ]
  },
  {
   "cell_type": "code",
   "execution_count": 17,
   "id": "65ab2c9b-30f1-43db-80bf-48390881adf4",
   "metadata": {},
   "outputs": [
    {
     "data": {
      "text/html": [
       "<div>\n",
       "<style scoped>\n",
       "    .dataframe tbody tr th:only-of-type {\n",
       "        vertical-align: middle;\n",
       "    }\n",
       "\n",
       "    .dataframe tbody tr th {\n",
       "        vertical-align: top;\n",
       "    }\n",
       "\n",
       "    .dataframe thead th {\n",
       "        text-align: right;\n",
       "    }\n",
       "</style>\n",
       "<table border=\"1\" class=\"dataframe\">\n",
       "  <thead>\n",
       "    <tr style=\"text-align: right;\">\n",
       "      <th></th>\n",
       "      <th>id</th>\n",
       "      <th>first_name</th>\n",
       "      <th>last_name</th>\n",
       "      <th>age</th>\n",
       "      <th>sex</th>\n",
       "      <th>employee_title</th>\n",
       "      <th>department</th>\n",
       "      <th>salary</th>\n",
       "      <th>target</th>\n",
       "      <th>bonus</th>\n",
       "      <th>email</th>\n",
       "      <th>city</th>\n",
       "      <th>address</th>\n",
       "      <th>manager_id</th>\n",
       "    </tr>\n",
       "  </thead>\n",
       "  <tbody>\n",
       "    <tr>\n",
       "      <th>0</th>\n",
       "      <td>5</td>\n",
       "      <td>Max</td>\n",
       "      <td>George</td>\n",
       "      <td>26</td>\n",
       "      <td>M</td>\n",
       "      <td>Sales</td>\n",
       "      <td>Sales</td>\n",
       "      <td>1300</td>\n",
       "      <td>200</td>\n",
       "      <td>150</td>\n",
       "      <td>Max@company.com</td>\n",
       "      <td>California</td>\n",
       "      <td>2638 Richards Avenue</td>\n",
       "      <td>1</td>\n",
       "    </tr>\n",
       "    <tr>\n",
       "      <th>1</th>\n",
       "      <td>13</td>\n",
       "      <td>Katty</td>\n",
       "      <td>Bond</td>\n",
       "      <td>56</td>\n",
       "      <td>F</td>\n",
       "      <td>Manager</td>\n",
       "      <td>Management</td>\n",
       "      <td>150000</td>\n",
       "      <td>0</td>\n",
       "      <td>300</td>\n",
       "      <td>Katty@company.com</td>\n",
       "      <td>Arizona</td>\n",
       "      <td>NaN</td>\n",
       "      <td>1</td>\n",
       "    </tr>\n",
       "    <tr>\n",
       "      <th>2</th>\n",
       "      <td>11</td>\n",
       "      <td>Richerd</td>\n",
       "      <td>Gear</td>\n",
       "      <td>57</td>\n",
       "      <td>M</td>\n",
       "      <td>Manager</td>\n",
       "      <td>Management</td>\n",
       "      <td>250000</td>\n",
       "      <td>0</td>\n",
       "      <td>300</td>\n",
       "      <td>Richerd@company.com</td>\n",
       "      <td>Alabama</td>\n",
       "      <td>NaN</td>\n",
       "      <td>1</td>\n",
       "    </tr>\n",
       "    <tr>\n",
       "      <th>3</th>\n",
       "      <td>10</td>\n",
       "      <td>Jennifer</td>\n",
       "      <td>Dion</td>\n",
       "      <td>34</td>\n",
       "      <td>F</td>\n",
       "      <td>Sales</td>\n",
       "      <td>Sales</td>\n",
       "      <td>1000</td>\n",
       "      <td>200</td>\n",
       "      <td>150</td>\n",
       "      <td>Jennifer@company.com</td>\n",
       "      <td>Alabama</td>\n",
       "      <td>NaN</td>\n",
       "      <td>13</td>\n",
       "    </tr>\n",
       "    <tr>\n",
       "      <th>4</th>\n",
       "      <td>19</td>\n",
       "      <td>George</td>\n",
       "      <td>Joe</td>\n",
       "      <td>50</td>\n",
       "      <td>M</td>\n",
       "      <td>Manager</td>\n",
       "      <td>Management</td>\n",
       "      <td>100000</td>\n",
       "      <td>0</td>\n",
       "      <td>300</td>\n",
       "      <td>George@company.com</td>\n",
       "      <td>Florida</td>\n",
       "      <td>1003 Wyatt Street</td>\n",
       "      <td>1</td>\n",
       "    </tr>\n",
       "  </tbody>\n",
       "</table>\n",
       "</div>"
      ],
      "text/plain": [
       "   id first_name last_name  age sex employee_title  department  salary  \\\n",
       "0   5        Max    George   26   M          Sales       Sales    1300   \n",
       "1  13      Katty      Bond   56   F        Manager  Management  150000   \n",
       "2  11    Richerd      Gear   57   M        Manager  Management  250000   \n",
       "3  10   Jennifer      Dion   34   F          Sales       Sales    1000   \n",
       "4  19     George       Joe   50   M        Manager  Management  100000   \n",
       "\n",
       "   target  bonus                 email        city               address  \\\n",
       "0     200    150       Max@company.com  California  2638 Richards Avenue   \n",
       "1       0    300     Katty@company.com     Arizona                   NaN   \n",
       "2       0    300   Richerd@company.com     Alabama                   NaN   \n",
       "3     200    150  Jennifer@company.com     Alabama                   NaN   \n",
       "4       0    300    George@company.com     Florida     1003 Wyatt Street   \n",
       "\n",
       "   manager_id  \n",
       "0           1  \n",
       "1           1  \n",
       "2           1  \n",
       "3          13  \n",
       "4           1  "
      ]
     },
     "execution_count": 17,
     "metadata": {},
     "output_type": "execute_result"
    }
   ],
   "source": [
    "#employee = pd.read_clipboard()\n",
    "#employee.to_csv('employee.csv',index=False)\n",
    "employee = pd.read_csv('employee.csv')\n",
    "employee.head()"
   ]
  },
  {
   "cell_type": "code",
   "execution_count": 18,
   "id": "0fbb88bc-bf38-40e6-a8e9-1b1c5803de83",
   "metadata": {},
   "outputs": [
    {
     "data": {
      "text/plain": [
       "1     12\n",
       "19     7\n",
       "11     6\n",
       "13     5\n",
       "Name: manager_id, dtype: int64"
      ]
     },
     "execution_count": 18,
     "metadata": {},
     "output_type": "execute_result"
    }
   ],
   "source": [
    "# Check how many managers have employees\n",
    "employee.manager_id.value_counts()"
   ]
  },
  {
   "cell_type": "markdown",
   "id": "1feec5b8-6a55-4eed-817a-8e28b960cf60",
   "metadata": {},
   "source": [
    "### Need to make groups for employees of manger 1, 19, 11, and 13"
   ]
  },
  {
   "cell_type": "code",
   "execution_count": 19,
   "id": "73916a59-55c6-4817-9438-0d770e959c9f",
   "metadata": {},
   "outputs": [
    {
     "data": {
      "text/html": [
       "<div>\n",
       "<style scoped>\n",
       "    .dataframe tbody tr th:only-of-type {\n",
       "        vertical-align: middle;\n",
       "    }\n",
       "\n",
       "    .dataframe tbody tr th {\n",
       "        vertical-align: top;\n",
       "    }\n",
       "\n",
       "    .dataframe thead th {\n",
       "        text-align: right;\n",
       "    }\n",
       "</style>\n",
       "<table border=\"1\" class=\"dataframe\">\n",
       "  <thead>\n",
       "    <tr style=\"text-align: right;\">\n",
       "      <th></th>\n",
       "      <th>id</th>\n",
       "      <th>first_name</th>\n",
       "      <th>last_name</th>\n",
       "      <th>age</th>\n",
       "      <th>sex</th>\n",
       "      <th>employee_title</th>\n",
       "      <th>department</th>\n",
       "      <th>salary</th>\n",
       "      <th>target</th>\n",
       "      <th>bonus</th>\n",
       "      <th>email</th>\n",
       "      <th>city</th>\n",
       "      <th>address</th>\n",
       "      <th>manager_id</th>\n",
       "    </tr>\n",
       "  </thead>\n",
       "  <tbody>\n",
       "    <tr>\n",
       "      <th>2</th>\n",
       "      <td>11</td>\n",
       "      <td>Richerd</td>\n",
       "      <td>Gear</td>\n",
       "      <td>57</td>\n",
       "      <td>M</td>\n",
       "      <td>Manager</td>\n",
       "      <td>Management</td>\n",
       "      <td>250000</td>\n",
       "      <td>0</td>\n",
       "      <td>300</td>\n",
       "      <td>Richerd@company.com</td>\n",
       "      <td>Alabama</td>\n",
       "      <td>NaN</td>\n",
       "      <td>1</td>\n",
       "    </tr>\n",
       "  </tbody>\n",
       "</table>\n",
       "</div>"
      ],
      "text/plain": [
       "   id first_name last_name  age sex employee_title  department  salary  \\\n",
       "2  11    Richerd      Gear   57   M        Manager  Management  250000   \n",
       "\n",
       "   target  bonus                email     city address  manager_id  \n",
       "2       0    300  Richerd@company.com  Alabama     NaN           1  "
      ]
     },
     "execution_count": 19,
     "metadata": {},
     "output_type": "execute_result"
    }
   ],
   "source": [
    "# create dateframe of for manager id 19, sort by highest salary\n",
    "one_team = employee.loc[employee['manager_id'] == 1].sort_values(by=['salary'], ascending=False)\n",
    "\n",
    "# get the managers salary\n",
    "one_manager_salary = employee.loc[employee['id'] == 1]['salary'].max()\n",
    "\n",
    "# get the employees who have a higher salary than their manager\n",
    "one_higher = one_team.loc[one_team['salary'] > one_manager_salary]\n",
    "one_higher"
   ]
  },
  {
   "cell_type": "code",
   "execution_count": 20,
   "id": "b99f67eb-1d80-424d-a83a-ba9871fa4f12",
   "metadata": {},
   "outputs": [
    {
     "data": {
      "text/html": [
       "<div>\n",
       "<style scoped>\n",
       "    .dataframe tbody tr th:only-of-type {\n",
       "        vertical-align: middle;\n",
       "    }\n",
       "\n",
       "    .dataframe tbody tr th {\n",
       "        vertical-align: top;\n",
       "    }\n",
       "\n",
       "    .dataframe thead th {\n",
       "        text-align: right;\n",
       "    }\n",
       "</style>\n",
       "<table border=\"1\" class=\"dataframe\">\n",
       "  <thead>\n",
       "    <tr style=\"text-align: right;\">\n",
       "      <th></th>\n",
       "      <th>id</th>\n",
       "      <th>first_name</th>\n",
       "      <th>last_name</th>\n",
       "      <th>age</th>\n",
       "      <th>sex</th>\n",
       "      <th>employee_title</th>\n",
       "      <th>department</th>\n",
       "      <th>salary</th>\n",
       "      <th>target</th>\n",
       "      <th>bonus</th>\n",
       "      <th>email</th>\n",
       "      <th>city</th>\n",
       "      <th>address</th>\n",
       "      <th>manager_id</th>\n",
       "    </tr>\n",
       "  </thead>\n",
       "  <tbody>\n",
       "  </tbody>\n",
       "</table>\n",
       "</div>"
      ],
      "text/plain": [
       "Empty DataFrame\n",
       "Columns: [id, first_name, last_name, age, sex, employee_title, department, salary, target, bonus, email, city, address, manager_id]\n",
       "Index: []"
      ]
     },
     "execution_count": 20,
     "metadata": {},
     "output_type": "execute_result"
    }
   ],
   "source": [
    "# create dateframe of for manager id 19, sort by highest salary\n",
    "thirteen_team = employee.loc[employee['manager_id'] == 13].sort_values(by=['salary'], ascending=False)\n",
    "\n",
    "# get the managers salary\n",
    "thirteen_manager_salary = employee.loc[employee['id'] == 13]['salary'].max()\n",
    "\n",
    "# get the employees who have a higher salary than their manager\n",
    "thirteen_higher = thirteen_team.loc[thirteen_team['salary'] > thirteen_manager_salary]\n",
    "thirteen_higher"
   ]
  },
  {
   "cell_type": "code",
   "execution_count": 21,
   "id": "e33fadb7-2c60-4701-b360-c7dce8238602",
   "metadata": {},
   "outputs": [
    {
     "data": {
      "text/html": [
       "<div>\n",
       "<style scoped>\n",
       "    .dataframe tbody tr th:only-of-type {\n",
       "        vertical-align: middle;\n",
       "    }\n",
       "\n",
       "    .dataframe tbody tr th {\n",
       "        vertical-align: top;\n",
       "    }\n",
       "\n",
       "    .dataframe thead th {\n",
       "        text-align: right;\n",
       "    }\n",
       "</style>\n",
       "<table border=\"1\" class=\"dataframe\">\n",
       "  <thead>\n",
       "    <tr style=\"text-align: right;\">\n",
       "      <th></th>\n",
       "      <th>id</th>\n",
       "      <th>first_name</th>\n",
       "      <th>last_name</th>\n",
       "      <th>age</th>\n",
       "      <th>sex</th>\n",
       "      <th>employee_title</th>\n",
       "      <th>department</th>\n",
       "      <th>salary</th>\n",
       "      <th>target</th>\n",
       "      <th>bonus</th>\n",
       "      <th>email</th>\n",
       "      <th>city</th>\n",
       "      <th>address</th>\n",
       "      <th>manager_id</th>\n",
       "    </tr>\n",
       "  </thead>\n",
       "  <tbody>\n",
       "  </tbody>\n",
       "</table>\n",
       "</div>"
      ],
      "text/plain": [
       "Empty DataFrame\n",
       "Columns: [id, first_name, last_name, age, sex, employee_title, department, salary, target, bonus, email, city, address, manager_id]\n",
       "Index: []"
      ]
     },
     "execution_count": 21,
     "metadata": {},
     "output_type": "execute_result"
    }
   ],
   "source": [
    "# create dateframe of for manager id 19, sort by highest salary\n",
    "elv_team = employee.loc[employee['manager_id'] == 11].sort_values(by=['salary'], ascending=False)\n",
    "\n",
    "# get the managers salary\n",
    "elv_manager_salary = employee.loc[employee['id'] == 11]['salary'].max()\n",
    "\n",
    "# get the employees who have a higher salary than their manager\n",
    "elv_higher = elv_team.loc[elv_team['salary'] > elv_manager_salary]\n",
    "elv_higher"
   ]
  },
  {
   "cell_type": "code",
   "execution_count": 22,
   "id": "0fb350b4-4c98-4a4e-b80e-66d19d2ac0d8",
   "metadata": {},
   "outputs": [
    {
     "data": {
      "text/html": [
       "<div>\n",
       "<style scoped>\n",
       "    .dataframe tbody tr th:only-of-type {\n",
       "        vertical-align: middle;\n",
       "    }\n",
       "\n",
       "    .dataframe tbody tr th {\n",
       "        vertical-align: top;\n",
       "    }\n",
       "\n",
       "    .dataframe thead th {\n",
       "        text-align: right;\n",
       "    }\n",
       "</style>\n",
       "<table border=\"1\" class=\"dataframe\">\n",
       "  <thead>\n",
       "    <tr style=\"text-align: right;\">\n",
       "      <th></th>\n",
       "      <th>id</th>\n",
       "      <th>first_name</th>\n",
       "      <th>last_name</th>\n",
       "      <th>age</th>\n",
       "      <th>sex</th>\n",
       "      <th>employee_title</th>\n",
       "      <th>department</th>\n",
       "      <th>salary</th>\n",
       "      <th>target</th>\n",
       "      <th>bonus</th>\n",
       "      <th>email</th>\n",
       "      <th>city</th>\n",
       "      <th>address</th>\n",
       "      <th>manager_id</th>\n",
       "    </tr>\n",
       "  </thead>\n",
       "  <tbody>\n",
       "  </tbody>\n",
       "</table>\n",
       "</div>"
      ],
      "text/plain": [
       "Empty DataFrame\n",
       "Columns: [id, first_name, last_name, age, sex, employee_title, department, salary, target, bonus, email, city, address, manager_id]\n",
       "Index: []"
      ]
     },
     "execution_count": 22,
     "metadata": {},
     "output_type": "execute_result"
    }
   ],
   "source": [
    "# create dateframe of for manager id 19, sort by highest salary\n",
    "nt_team = employee.loc[employee['manager_id'] == 19].sort_values(by=['salary'], ascending=False)\n",
    "\n",
    "# get the managers salary\n",
    "nt_manager_salary = employee.loc[employee['id'] == 19]['salary'].max()\n",
    "\n",
    "# get the employees who have a higher salary than their manager\n",
    "nt_higher = nt_team.loc[nt_team['salary'] > nt_manager_salary]\n",
    "nt_higher"
   ]
  },
  {
   "cell_type": "code",
   "execution_count": 23,
   "id": "b0975abd-b39b-48ec-ba83-4ce37a070dd5",
   "metadata": {},
   "outputs": [
    {
     "data": {
      "text/html": [
       "<div>\n",
       "<style scoped>\n",
       "    .dataframe tbody tr th:only-of-type {\n",
       "        vertical-align: middle;\n",
       "    }\n",
       "\n",
       "    .dataframe tbody tr th {\n",
       "        vertical-align: top;\n",
       "    }\n",
       "\n",
       "    .dataframe thead th {\n",
       "        text-align: right;\n",
       "    }\n",
       "</style>\n",
       "<table border=\"1\" class=\"dataframe\">\n",
       "  <thead>\n",
       "    <tr style=\"text-align: right;\">\n",
       "      <th></th>\n",
       "      <th>id</th>\n",
       "      <th>first_name</th>\n",
       "      <th>last_name</th>\n",
       "      <th>age</th>\n",
       "      <th>sex</th>\n",
       "      <th>employee_title</th>\n",
       "      <th>department</th>\n",
       "      <th>salary</th>\n",
       "      <th>target</th>\n",
       "      <th>bonus</th>\n",
       "      <th>email</th>\n",
       "      <th>city</th>\n",
       "      <th>address</th>\n",
       "      <th>manager_id</th>\n",
       "    </tr>\n",
       "  </thead>\n",
       "  <tbody>\n",
       "    <tr>\n",
       "      <th>2</th>\n",
       "      <td>11</td>\n",
       "      <td>Richerd</td>\n",
       "      <td>Gear</td>\n",
       "      <td>57</td>\n",
       "      <td>M</td>\n",
       "      <td>Manager</td>\n",
       "      <td>Management</td>\n",
       "      <td>250000</td>\n",
       "      <td>0</td>\n",
       "      <td>300</td>\n",
       "      <td>Richerd@company.com</td>\n",
       "      <td>Alabama</td>\n",
       "      <td>NaN</td>\n",
       "      <td>1</td>\n",
       "    </tr>\n",
       "  </tbody>\n",
       "</table>\n",
       "</div>"
      ],
      "text/plain": [
       "   id first_name last_name  age sex employee_title  department  salary  \\\n",
       "2  11    Richerd      Gear   57   M        Manager  Management  250000   \n",
       "\n",
       "   target  bonus                email     city address  manager_id  \n",
       "2       0    300  Richerd@company.com  Alabama     NaN           1  "
      ]
     },
     "execution_count": 23,
     "metadata": {},
     "output_type": "execute_result"
    }
   ],
   "source": [
    "# Concat the dataframes\n",
    "final = pd.concat([one_higher, thirteen_higher, elv_higher, nt_higher], axis=0)\n",
    "final"
   ]
  },
  {
   "cell_type": "markdown",
   "id": "42156e26-159a-4b7d-b57d-d343d9d7bde9",
   "metadata": {},
   "source": [
    "### Output the employee's first name along with the corresponding salary."
   ]
  },
  {
   "cell_type": "code",
   "execution_count": 24,
   "id": "8b6b7e48-088d-4610-949e-ecb3815db37c",
   "metadata": {},
   "outputs": [
    {
     "data": {
      "text/html": [
       "<div>\n",
       "<style scoped>\n",
       "    .dataframe tbody tr th:only-of-type {\n",
       "        vertical-align: middle;\n",
       "    }\n",
       "\n",
       "    .dataframe tbody tr th {\n",
       "        vertical-align: top;\n",
       "    }\n",
       "\n",
       "    .dataframe thead th {\n",
       "        text-align: right;\n",
       "    }\n",
       "</style>\n",
       "<table border=\"1\" class=\"dataframe\">\n",
       "  <thead>\n",
       "    <tr style=\"text-align: right;\">\n",
       "      <th></th>\n",
       "      <th>first_name</th>\n",
       "      <th>salary</th>\n",
       "    </tr>\n",
       "  </thead>\n",
       "  <tbody>\n",
       "    <tr>\n",
       "      <th>2</th>\n",
       "      <td>Richerd</td>\n",
       "      <td>250000</td>\n",
       "    </tr>\n",
       "  </tbody>\n",
       "</table>\n",
       "</div>"
      ],
      "text/plain": [
       "  first_name  salary\n",
       "2    Richerd  250000"
      ]
     },
     "execution_count": 24,
     "metadata": {},
     "output_type": "execute_result"
    }
   ],
   "source": [
    "# Get only the columns we want\n",
    "final[['first_name','salary']]"
   ]
  }
 ],
 "metadata": {
  "kernelspec": {
   "display_name": "Python 3",
   "language": "python",
   "name": "python3"
  },
  "language_info": {
   "codemirror_mode": {
    "name": "ipython",
    "version": 3
   },
   "file_extension": ".py",
   "mimetype": "text/x-python",
   "name": "python",
   "nbconvert_exporter": "python",
   "pygments_lexer": "ipython3",
   "version": "3.8.8"
  }
 },
 "nbformat": 4,
 "nbformat_minor": 5
}
